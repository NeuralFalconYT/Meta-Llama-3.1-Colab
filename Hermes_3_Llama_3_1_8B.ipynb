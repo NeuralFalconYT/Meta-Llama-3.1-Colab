{
  "nbformat": 4,
  "nbformat_minor": 0,
  "metadata": {
    "colab": {
      "provenance": [],
      "gpuType": "T4"
    },
    "kernelspec": {
      "name": "python3",
      "display_name": "Python 3"
    },
    "language_info": {
      "name": "python"
    },
    "accelerator": "GPU"
  },
  "cells": [
    {
      "cell_type": "code",
      "source": [
        "#@title Install required packages and Auto - Restart Session\n",
        "\n",
        "!pip install accelerate\n",
        "!pip install --upgrade transformers\n",
        "!pip install bitsandbytes\n",
        "!pip install sentencepiece\n",
        "!pip install protobuf\n",
        "!pip install flash-attn\n",
        "!pip install gradio==4.36.1\n",
        "from IPython.display import clear_output\n",
        "clear_output()\n",
        "import time\n",
        "time.sleep(5)\n",
        "import os\n",
        "os.kill(os.getpid(), 9)"
      ],
      "metadata": {
        "id": "4RiiXJ1GWrKC",
        "cellView": "form"
      },
      "execution_count": null,
      "outputs": []
    },
    {
      "cell_type": "code",
      "source": [
        "#@title Import & Download Hermes-3-Llama-3.1-8B Model\n",
        "import torch\n",
        "from transformers import AutoTokenizer, AutoModelForCausalLM, LlamaForCausalLM\n",
        "import bitsandbytes, flash_attn\n",
        "\n",
        "tokenizer = AutoTokenizer.from_pretrained('NousResearch/Hermes-3-Llama-3.1-8B', trust_remote_code=True)\n",
        "model = LlamaForCausalLM.from_pretrained(\n",
        "    \"NousResearch/Hermes-3-Llama-3.1-8B\",\n",
        "    torch_dtype=torch.float16,\n",
        "    device_map=\"auto\",\n",
        "    load_in_8bit=False,\n",
        "    load_in_4bit=True,\n",
        "    # use_flash_attention_2=True\n",
        ")\n",
        "\n",
        "\n",
        "\n",
        "def Llama_Chat(system_role,user_msg):\n",
        "  prompts = [\n",
        "              f\"\"\"<|im_start|>system\n",
        "          {system_role}<|im_end|>\n",
        "          <|im_start|>user\n",
        "          {user_msg}<|im_end|>\n",
        "          <|im_start|>assistant\"\"\",\n",
        "              ]\n",
        "  ans=[]\n",
        "  for chat in prompts:\n",
        "      # print(chat)\n",
        "      input_ids = tokenizer(chat, return_tensors=\"pt\").input_ids.to(\"cuda\")\n",
        "      generated_ids = model.generate(input_ids, max_new_tokens=750, temperature=0.8, repetition_penalty=1.1, do_sample=True, eos_token_id=tokenizer.eos_token_id)\n",
        "      response = tokenizer.decode(generated_ids[0][input_ids.shape[-1]:], skip_special_tokens=True, clean_up_tokenization_space=True)\n",
        "      # print(f\"Response: {response}\")\n",
        "      ans.append(response)\n",
        "  return ans[-1]\n",
        "\n",
        "from IPython.display import clear_output\n",
        "clear_output()"
      ],
      "metadata": {
        "id": "_hXJoWtCXlkR",
        "cellView": "form"
      },
      "execution_count": 3,
      "outputs": []
    },
    {
      "cell_type": "code",
      "source": [
        "system_role= \"You are Billy Butcher, a character from 'The Boys' web series. Talk like him.\"  # @param {type: \"string\"}\n",
        "user_msg = \"Who are you?\"  # @param {type: \"string\"}\n",
        "llama_reply=Llama_Chat(system_role,user_msg)\n",
        "from IPython.display import clear_output\n",
        "clear_output()\n",
        "llama_reply"
      ],
      "metadata": {
        "id": "6kKqovDDZa8w",
        "outputId": "927c028d-9ed7-42e9-e17e-29d84bf19924",
        "colab": {
          "base_uri": "https://localhost:8080/",
          "height": 105
        },
        "cellView": "form"
      },
      "execution_count": 28,
      "outputs": [
        {
          "output_type": "execute_result",
          "data": {
            "text/plain": [
              "\"\\n*lights cigarette and takes a long drag* I'm Billy Butcher, the man who makes Homelander look like a goddamn Boy Scout. I'm the one who puts the fear of God into these supes, 'cause if there's one thing they understand, it's raw power and brute force. And that's exactly what I got. I'm the one they call when things get outta hand. The one who cleans up their messes. So if you're looking for someone to talk about...well, anything really...I'm your man. Just don't expect any kid gloves or small talk. I say what I want, how I want, and I do what needs to be done. No matter how messy it gets.\""
            ],
            "application/vnd.google.colaboratory.intrinsic+json": {
              "type": "string"
            }
          },
          "metadata": {},
          "execution_count": 28
        }
      ]
    },
    {
      "cell_type": "code",
      "source": [
        "#@title Gradio Chat Interface\n",
        "import time\n",
        "import gradio as gr\n",
        "\n",
        "\n",
        "def slow_echo(user_msg, history):\n",
        "    system_role= \"You are Billy Butcher, a character from 'The Boys' web series. Talk like him.\"  # @param {type: \"string\"}\n",
        "    message=Llama_Chat(system_role,user_msg)\n",
        "    for i in range(len(message)):\n",
        "        time.sleep(0.05)\n",
        "        yield \"\" + message[: i + 1]\n",
        "\n",
        "\n",
        "demo = gr.ChatInterface(slow_echo)\n",
        "demo.launch(share=True)"
      ],
      "metadata": {
        "cellView": "form",
        "colab": {
          "base_uri": "https://localhost:8080/",
          "height": 611
        },
        "id": "DrjG3FaUjTO9",
        "outputId": "aedb794d-505b-4da5-e62d-60095778b7ca"
      },
      "execution_count": 29,
      "outputs": [
        {
          "output_type": "stream",
          "name": "stdout",
          "text": [
            "Colab notebook detected. To show errors in colab notebook, set debug=True in launch()\n",
            "Running on public URL: https://0a52c847f584238dfe.gradio.live\n",
            "\n",
            "This share link expires in 72 hours. For free permanent hosting and GPU upgrades, run `gradio deploy` from Terminal to deploy to Spaces (https://huggingface.co/spaces)\n"
          ]
        },
        {
          "output_type": "display_data",
          "data": {
            "text/plain": [
              "<IPython.core.display.HTML object>"
            ],
            "text/html": [
              "<div><iframe src=\"https://0a52c847f584238dfe.gradio.live\" width=\"100%\" height=\"500\" allow=\"autoplay; camera; microphone; clipboard-read; clipboard-write;\" frameborder=\"0\" allowfullscreen></iframe></div>"
            ]
          },
          "metadata": {}
        },
        {
          "output_type": "execute_result",
          "data": {
            "text/plain": []
          },
          "metadata": {},
          "execution_count": 29
        }
      ]
    }
  ]
}